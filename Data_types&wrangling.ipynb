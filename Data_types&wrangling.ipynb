{
  "nbformat": 4,
  "nbformat_minor": 0,
  "metadata": {
    "colab": {
      "provenance": [],
      "authorship_tag": "ABX9TyN0AV1fSVVYu5Hgkn3b93IY",
      "include_colab_link": true
    },
    "kernelspec": {
      "name": "python3",
      "display_name": "Python 3"
    },
    "language_info": {
      "name": "python"
    }
  },
  "cells": [
    {
      "cell_type": "markdown",
      "metadata": {
        "id": "view-in-github",
        "colab_type": "text"
      },
      "source": [
        "<a href=\"https://colab.research.google.com/github/Joetech-hub/my_repo/blob/main/Data_types%26wrangling.ipynb\" target=\"_parent\"><img src=\"https://colab.research.google.com/assets/colab-badge.svg\" alt=\"Open In Colab\"/></a>"
      ]
    },
    {
      "cell_type": "code",
      "source": [
        "import numpy as np\n",
        "import pandas as pd\n"
      ],
      "metadata": {
        "id": "51wUhVt6ID9A"
      },
      "execution_count": 1,
      "outputs": []
    },
    {
      "cell_type": "code",
      "source": [
        "df = pd.read_csv('FoodBalanceSheets_E_Africa_NOFLAG.csv', encoding = 'latin-1')"
      ],
      "metadata": {
        "id": "vim3HHQZ8nNH"
      },
      "execution_count": 2,
      "outputs": []
    },
    {
      "cell_type": "code",
      "source": [
        "df.isnull().sum()"
      ],
      "metadata": {
        "colab": {
          "base_uri": "https://localhost:8080/"
        },
        "id": "3b4Qo65q9nxO",
        "outputId": "aa49c3b3-9d60-478e-b2f4-00c51253632c"
      },
      "execution_count": 4,
      "outputs": [
        {
          "output_type": "execute_result",
          "data": {
            "text/plain": [
              "Area Code          0\n",
              "Area               0\n",
              "Item Code          0\n",
              "Item               0\n",
              "Element Code       0\n",
              "Element            0\n",
              "Unit               0\n",
              "Y2014           1589\n",
              "Y2015           1548\n",
              "Y2016           1535\n",
              "Y2017           1506\n",
              "Y2018           1436\n",
              "dtype: int64"
            ]
          },
          "metadata": {},
          "execution_count": 4
        }
      ]
    },
    {
      "cell_type": "code",
      "source": [
        "df[['Y2014']] = df[['Y2014']].fillna(value='mcf')"
      ],
      "metadata": {
        "id": "5fxlf16zBL0L"
      },
      "execution_count": 5,
      "outputs": []
    },
    {
      "cell_type": "code",
      "source": [
        "df.groupby('Area Code')['Area Code'].count()"
      ],
      "metadata": {
        "colab": {
          "base_uri": "https://localhost:8080/"
        },
        "id": "ImTqgqg9C8Mj",
        "outputId": "dc9c73e0-349c-4bce-a69a-b1a542104eb9"
      },
      "execution_count": 8,
      "outputs": [
        {
          "output_type": "execute_result",
          "data": {
            "text/plain": [
              "Area Code\n",
              "4      1313\n",
              "7      1424\n",
              "20     1378\n",
              "32     1460\n",
              "35     1260\n",
              "37     1344\n",
              "39     1343\n",
              "45       45\n",
              "46     1413\n",
              "53     1285\n",
              "59     1488\n",
              "62       39\n",
              "72     1095\n",
              "74     1245\n",
              "75     1168\n",
              "81     1354\n",
              "90     1410\n",
              "107    1467\n",
              "114    1560\n",
              "122    1150\n",
              "123    1206\n",
              "129    1439\n",
              "130    1447\n",
              "133    1293\n",
              "136    1195\n",
              "137    1378\n",
              "143    1393\n",
              "144    1427\n",
              "147    1283\n",
              "158    1403\n",
              "159    1474\n",
              "175    1128\n",
              "181    1393\n",
              "184    1426\n",
              "193    1177\n",
              "195    1462\n",
              "196      68\n",
              "197    1242\n",
              "202    1399\n",
              "206      53\n",
              "209    1284\n",
              "215    1419\n",
              "217    1294\n",
              "222    1338\n",
              "226    1458\n",
              "233    1409\n",
              "238    1447\n",
              "251    1451\n",
              "276    1316\n",
              "Name: Area Code, dtype: int64"
            ]
          },
          "metadata": {},
          "execution_count": 8
        }
      ]
    },
    {
      "cell_type": "code",
      "source": [
        "df1 = df.iloc[0:100].reset_index(drop=True)"
      ],
      "metadata": {
        "id": "XLsBhd30EK9H"
      },
      "execution_count": 10,
      "outputs": []
    },
    {
      "cell_type": "code",
      "source": [
        "df2 = df.iloc[100:].reset_index(drop=True)"
      ],
      "metadata": {
        "id": "ZhUqVmWsFM3z"
      },
      "execution_count": 11,
      "outputs": []
    },
    {
      "cell_type": "code",
      "source": [
        "assert len(df) == (len(df1) + len(df2))"
      ],
      "metadata": {
        "id": "qFZeOyMRFbz3"
      },
      "execution_count": 14,
      "outputs": []
    },
    {
      "cell_type": "code",
      "source": [
        "df.duplicated().any()"
      ],
      "metadata": {
        "colab": {
          "base_uri": "https://localhost:8080/"
        },
        "id": "rlW-WXiSG8Ks",
        "outputId": "eebde650-d707-4d16-d696-e16978313aeb"
      },
      "execution_count": 20,
      "outputs": [
        {
          "output_type": "execute_result",
          "data": {
            "text/plain": [
              "False"
            ]
          },
          "metadata": {},
          "execution_count": 20
        }
      ]
    },
    {
      "cell_type": "code",
      "source": [
        "import seaborn as sns\n"
      ],
      "metadata": {
        "id": "U-8UY1smKlQe"
      },
      "execution_count": 23,
      "outputs": []
    },
    {
      "cell_type": "code",
      "source": [
        "sampl_df = df.sample(n = 40, random_state=4)\n",
        "sns.boxplot(x=sampl_df['Area'], y=sampl_df['Y2015'], palette=['m', 'g'], data=df)"
      ],
      "metadata": {
        "colab": {
          "base_uri": "https://localhost:8080/",
          "height": 466
        },
        "id": "B_5ZFUKQMkPm",
        "outputId": "fde39540-0262-415b-a252-921f976f26e3"
      },
      "execution_count": 36,
      "outputs": [
        {
          "output_type": "execute_result",
          "data": {
            "text/plain": [
              "<Axes: xlabel='Area', ylabel='Y2015'>"
            ]
          },
          "metadata": {},
          "execution_count": 36
        },
        {
          "output_type": "display_data",
          "data": {
            "text/plain": [
              "<Figure size 640x480 with 1 Axes>"
            ],
            "image/png": "[encoded data removed]"
          },
          "metadata": {}
        }
      ]
    },
    {
      "cell_type": "code",
      "source": [
        "df.shape"
      ],
      "metadata": {
        "colab": {
          "base_uri": "https://localhost:8080/"
        },
        "id": "pOQPMDbQOvuf",
        "outputId": "b5690821-767b-41e4-f59c-252e34b560f8"
      },
      "execution_count": 37,
      "outputs": [
        {
          "output_type": "execute_result",
          "data": {
            "text/plain": [
              "(60943, 12)"
            ]
          },
          "metadata": {},
          "execution_count": 37
        }
      ]
    },
    {
      "cell_type": "code",
      "source": [
        "df.head(3)"
      ],
      "metadata": {
        "colab": {
          "base_uri": "https://localhost:8080/",
          "height": 143
        },
        "id": "mdoL8JSVSuQV",
        "outputId": "0a3b1257-6cc5-48ff-f51f-7b4c7d93f23b"
      },
      "execution_count": 40,
      "outputs": [
        {
          "output_type": "execute_result",
          "data": {
            "text/plain": [
              "   Area Code     Area  Item Code         Item  Element Code  \\\n",
              "0          4  Algeria       2501   Population           511   \n",
              "1          4  Algeria       2501   Population          5301   \n",
              "2          4  Algeria       2901  Grand Total           664   \n",
              "\n",
              "                         Element             Unit    Y2014    Y2015    Y2016  \\\n",
              "0  Total Population - Both sexes     1000 persons  38924.0  39728.0  40551.0   \n",
              "1       Domestic supply quantity      1000 tonnes      0.0      0.0      0.0   \n",
              "2  Food supply (kcal/capita/day)  kcal/capita/day   3377.0   3379.0   3372.0   \n",
              "\n",
              "     Y2017    Y2018  \n",
              "0  41389.0  42228.0  \n",
              "1      0.0      0.0  \n",
              "2   3341.0   3322.0  "
            ],
            "text/html": [
              "\n",
              "  <div id=\"df-dbd47645-b60f-47a0-9e6e-48e36b540d43\" class=\"colab-df-container\">\n",
              "    <div>\n",
              "<style scoped>\n",
              "    .dataframe tbody tr th:only-of-type {\n",
              "        vertical-align: middle;\n",
              "    }\n",
              "\n",
              "    .dataframe tbody tr th {\n",
              "        vertical-align: top;\n",
              "    }\n",
              "\n",
              "    .dataframe thead th {\n",
              "        text-align: right;\n",
              "    }\n",
              "</style>\n",
              "<table border=\"1\" class=\"dataframe\">\n",
              "  <thead>\n",
              "    <tr style=\"text-align: right;\">\n",
              "      <th></th>\n",
              "      <th>Area Code</th>\n",
              "      <th>Area</th>\n",
              "      <th>Item Code</th>\n",
              "      <th>Item</th>\n",
              "      <th>Element Code</th>\n",
              "      <th>Element</th>\n",
              "      <th>Unit</th>\n",
              "      <th>Y2014</th>\n",
              "      <th>Y2015</th>\n",
              "      <th>Y2016</th>\n",
              "      <th>Y2017</th>\n",
              "      <th>Y2018</th>\n",
              "    </tr>\n",
              "  </thead>\n",
              "  <tbody>\n",
              "    <tr>\n",
              "      <th>0</th>\n",
              "      <td>4</td>\n",
              "      <td>Algeria</td>\n",
              "      <td>2501</td>\n",
              "      <td>Population</td>\n",
              "      <td>511</td>\n",
              "      <td>Total Population - Both sexes</td>\n",
              "      <td>1000 persons</td>\n",
              "      <td>38924.0</td>\n",
              "      <td>39728.0</td>\n",
              "      <td>40551.0</td>\n",
              "      <td>41389.0</td>\n",
              "      <td>42228.0</td>\n",
              "    </tr>\n",
              "    <tr>\n",
              "      <th>1</th>\n",
              "      <td>4</td>\n",
              "      <td>Algeria</td>\n",
              "      <td>2501</td>\n",
              "      <td>Population</td>\n",
              "      <td>5301</td>\n",
              "      <td>Domestic supply quantity</td>\n",
              "      <td>1000 tonnes</td>\n",
              "      <td>0.0</td>\n",
              "      <td>0.0</td>\n",
              "      <td>0.0</td>\n",
              "      <td>0.0</td>\n",
              "      <td>0.0</td>\n",
              "    </tr>\n",
              "    <tr>\n",
              "      <th>2</th>\n",
              "      <td>4</td>\n",
              "      <td>Algeria</td>\n",
              "      <td>2901</td>\n",
              "      <td>Grand Total</td>\n",
              "      <td>664</td>\n",
              "      <td>Food supply (kcal/capita/day)</td>\n",
              "      <td>kcal/capita/day</td>\n",
              "      <td>3377.0</td>\n",
              "      <td>3379.0</td>\n",
              "      <td>3372.0</td>\n",
              "      <td>3341.0</td>\n",
              "      <td>3322.0</td>\n",
              "    </tr>\n",
              "  </tbody>\n",
              "</table>\n",
              "</div>\n",
              "    <div class=\"colab-df-buttons\">\n",
              "\n",
              "  <div class=\"colab-df-container\">\n",
              "    <button class=\"colab-df-convert\" onclick=\"convertToInteractive('df-dbd47645-b60f-47a0-9e6e-48e36b540d43')\"\n",
              "            title=\"Convert this dataframe to an interactive table.\"\n",
              "            style=\"display:none;\">\n",
              "\n",
              "  <svg xmlns=\"http://www.w3.org/2000/svg\" height=\"24px\" viewBox=\"0 -960 960 960\">\n",
              "    <path d=\"M120-120v-720h720v720H120Zm60-500h600v-160H180v160Zm220 220h160v-160H400v160Zm0 220h160v-160H400v160ZM180-400h160v-160H180v160Zm440 0h160v-160H620v160ZM180-180h160v-160H180v160Zm440 0h160v-160H620v160Z\"/>\n",
              "  </svg>\n",
              "    </button>\n",
              "\n",
              "  <style>\n",
              "    .colab-df-container {\n",
              "      display:flex;\n",
              "      gap: 12px;\n",
              "    }\n",
              "\n",
              "    .colab-df-convert {\n",
              "      background-color: #E8F0FE;\n",
              "      border: none;\n",
              "      border-radius: 50%;\n",
              "      cursor: pointer;\n",
              "      display: none;\n",
              "      fill: #1967D2;\n",
              "      height: 32px;\n",
              "      padding: 0 0 0 0;\n",
              "      width: 32px;\n",
              "    }\n",
              "\n",
              "    .colab-df-convert:hover {\n",
              "      background-color: #E2EBFA;\n",
              "      box-shadow: 0px 1px 2px rgba(60, 64, 67, 0.3), 0px 1px 3px 1px rgba(60, 64, 67, 0.15);\n",
              "      fill: #174EA6;\n",
              "    }\n",
              "\n",
              "    .colab-df-buttons div {\n",
              "      margin-bottom: 4px;\n",
              "    }\n",
              "\n",
              "    [theme=dark] .colab-df-convert {\n",
              "      background-color: #3B4455;\n",
              "      fill: #D2E3FC;\n",
              "    }\n",
              "\n",
              "    [theme=dark] .colab-df-convert:hover {\n",
              "      background-color: #434B5C;\n",
              "      box-shadow: 0px 1px 3px 1px rgba(0, 0, 0, 0.15);\n",
              "      filter: drop-shadow(0px 1px 2px rgba(0, 0, 0, 0.3));\n",
              "      fill: #FFFFFF;\n",
              "    }\n",
              "  </style>\n",
              "\n",
              "    <script>\n",
              "      const buttonEl =\n",
              "        document.querySelector('#df-dbd47645-b60f-47a0-9e6e-48e36b540d43 button.colab-df-convert');\n",
              "      buttonEl.style.display =\n",
              "        google.colab.kernel.accessAllowed ? 'block' : 'none';\n",
              "\n",
              "      async function convertToInteractive(key) {\n",
              "        const element = document.querySelector('#df-dbd47645-b60f-47a0-9e6e-48e36b540d43');\n",
              "        const dataTable =\n",
              "          await google.colab.kernel.invokeFunction('convertToInteractive',\n",
              "                                                    [key], {});\n",
              "        if (!dataTable) return;\n",
              "\n",
              "        const docLinkHtml = 'Like what you see? Visit the ' +\n",
              "          '<a target=\"_blank\" href=https://colab.research.google.com/notebooks/data_table.ipynb>data table notebook</a>'\n",
              "          + ' to learn more about interactive tables.';\n",
              "        element.innerHTML = '';\n",
              "        dataTable['output_type'] = 'display_data';\n",
              "        await google.colab.output.renderOutput(dataTable, element);\n",
              "        const docLink = document.createElement('div');\n",
              "        docLink.innerHTML = docLinkHtml;\n",
              "        element.appendChild(docLink);\n",
              "      }\n",
              "    </script>\n",
              "  </div>\n",
              "\n",
              "\n",
              "<div id=\"df-5a1b8c83-bf5a-4a4a-b4e4-eb142df49a11\">\n",
              "  <button class=\"colab-df-quickchart\" onclick=\"quickchart('df-5a1b8c83-bf5a-4a4a-b4e4-eb142df49a11')\"\n",
              "            title=\"Suggest charts.\"\n",
              "            style=\"display:none;\">\n",
              "\n",
              "<svg xmlns=\"http://www.w3.org/2000/svg\" height=\"24px\"viewBox=\"0 0 24 24\"\n",
              "     width=\"24px\">\n",
              "    <g>\n",
              "        <path d=\"M19 3H5c-1.1 0-2 .9-2 2v14c0 1.1.9 2 2 2h14c1.1 0 2-.9 2-2V5c0-1.1-.9-2-2-2zM9 17H7v-7h2v7zm4 0h-2V7h2v10zm4 0h-2v-4h2v4z\"/>\n",
              "    </g>\n",
              "</svg>\n",
              "  </button>\n",
              "\n",
              "<style>\n",
              "  .colab-df-quickchart {\n",
              "      --bg-color: #E8F0FE;\n",
              "      --fill-color: #1967D2;\n",
              "      --hover-bg-color: #E2EBFA;\n",
              "      --hover-fill-color: #174EA6;\n",
              "      --disabled-fill-color: #AAA;\n",
              "      --disabled-bg-color: #DDD;\n",
              "  }\n",
              "\n",
              "  [theme=dark] .colab-df-quickchart {\n",
              "      --bg-color: #3B4455;\n",
              "      --fill-color: #D2E3FC;\n",
              "      --hover-bg-color: #434B5C;\n",
              "      --hover-fill-color: #FFFFFF;\n",
              "      --disabled-bg-color: #3B4455;\n",
              "      --disabled-fill-color: #666;\n",
              "  }\n",
              "\n",
              "  .colab-df-quickchart {\n",
              "    background-color: var(--bg-color);\n",
              "    border: none;\n",
              "    border-radius: 50%;\n",
              "    cursor: pointer;\n",
              "    display: none;\n",
              "    fill: var(--fill-color);\n",
              "    height: 32px;\n",
              "    padding: 0;\n",
              "    width: 32px;\n",
              "  }\n",
              "\n",
              "  .colab-df-quickchart:hover {\n",
              "    background-color: var(--hover-bg-color);\n",
              "    box-shadow: 0 1px 2px rgba(60, 64, 67, 0.3), 0 1px 3px 1px rgba(60, 64, 67, 0.15);\n",
              "    fill: var(--button-hover-fill-color);\n",
              "  }\n",
              "\n",
              "  .colab-df-quickchart-complete:disabled,\n",
              "  .colab-df-quickchart-complete:disabled:hover {\n",
              "    background-color: var(--disabled-bg-color);\n",
              "    fill: var(--disabled-fill-color);\n",
              "    box-shadow: none;\n",
              "  }\n",
              "\n",
              "  .colab-df-spinner {\n",
              "    border: 2px solid var(--fill-color);\n",
              "    border-color: transparent;\n",
              "    border-bottom-color: var(--fill-color);\n",
              "    animation:\n",
              "      spin 1s steps(1) infinite;\n",
              "  }\n",
              "\n",
              "  @keyframes spin {\n",
              "    0% {\n",
              "      border-color: transparent;\n",
              "      border-bottom-color: var(--fill-color);\n",
              "      border-left-color: var(--fill-color);\n",
              "    }\n",
              "    20% {\n",
              "      border-color: transparent;\n",
              "      border-left-color: var(--fill-color);\n",
              "      border-top-color: var(--fill-color);\n",
              "    }\n",
              "    30% {\n",
              "      border-color: transparent;\n",
              "      border-left-color: var(--fill-color);\n",
              "      border-top-color: var(--fill-color);\n",
              "      border-right-color: var(--fill-color);\n",
              "    }\n",
              "    40% {\n",
              "      border-color: transparent;\n",
              "      border-right-color: var(--fill-color);\n",
              "      border-top-color: var(--fill-color);\n",
              "    }\n",
              "    60% {\n",
              "      border-color: transparent;\n",
              "      border-right-color: var(--fill-color);\n",
              "    }\n",
              "    80% {\n",
              "      border-color: transparent;\n",
              "      border-right-color: var(--fill-color);\n",
              "      border-bottom-color: var(--fill-color);\n",
              "    }\n",
              "    90% {\n",
              "      border-color: transparent;\n",
              "      border-bottom-color: var(--fill-color);\n",
              "    }\n",
              "  }\n",
              "</style>\n",
              "\n",
              "  <script>\n",
              "    async function quickchart(key) {\n",
              "      const quickchartButtonEl =\n",
              "        document.querySelector('#' + key + ' button');\n",
              "      quickchartButtonEl.disabled = true;  // To prevent multiple clicks.\n",
              "      quickchartButtonEl.classList.add('colab-df-spinner');\n",
              "      try {\n",
              "        const charts = await google.colab.kernel.invokeFunction(\n",
              "            'suggestCharts', [key], {});\n",
              "      } catch (error) {\n",
              "        console.error('Error during call to suggestCharts:', error);\n",
              "      }\n",
              "      quickchartButtonEl.classList.remove('colab-df-spinner');\n",
              "      quickchartButtonEl.classList.add('colab-df-quickchart-complete');\n",
              "    }\n",
              "    (() => {\n",
              "      let quickchartButtonEl =\n",
              "        document.querySelector('#df-5a1b8c83-bf5a-4a4a-b4e4-eb142df49a11 button');\n",
              "      quickchartButtonEl.style.display =\n",
              "        google.colab.kernel.accessAllowed ? 'block' : 'none';\n",
              "    })();\n",
              "  </script>\n",
              "</div>\n",
              "    </div>\n",
              "  </div>\n"
            ]
          },
          "metadata": {},
          "execution_count": 40
        }
      ]
    },
    {
      "cell_type": "code",
      "source": [
        "df.info"
      ],
      "metadata": {
        "colab": {
          "base_uri": "https://localhost:8080/"
        },
        "id": "8w9JaUm3S4Yg",
        "outputId": "bcaa22e7-bc77-49e8-95cb-158f7e8986b0"
      },
      "execution_count": 39,
      "outputs": [
        {
          "output_type": "execute_result",
          "data": {
            "text/plain": [
              "<bound method DataFrame.info of        Area Code      Area  Item Code           Item  Element Code  \\\n",
              "0              4   Algeria       2501     Population           511   \n",
              "1              4   Algeria       2501     Population          5301   \n",
              "2              4   Algeria       2901    Grand Total           664   \n",
              "3              4   Algeria       2901    Grand Total           674   \n",
              "4              4   Algeria       2901    Grand Total           684   \n",
              "...          ...       ...        ...            ...           ...   \n",
              "60938        181  Zimbabwe       2899  Miscellaneous          5142   \n",
              "60939        181  Zimbabwe       2899  Miscellaneous           645   \n",
              "60940        181  Zimbabwe       2899  Miscellaneous           664   \n",
              "60941        181  Zimbabwe       2899  Miscellaneous           674   \n",
              "60942        181  Zimbabwe       2899  Miscellaneous           684   \n",
              "\n",
              "                                      Element             Unit    Y2014  \\\n",
              "0               Total Population - Both sexes     1000 persons  38924.0   \n",
              "1                    Domestic supply quantity      1000 tonnes      0.0   \n",
              "2               Food supply (kcal/capita/day)  kcal/capita/day   3377.0   \n",
              "3      Protein supply quantity (g/capita/day)     g/capita/day     94.9   \n",
              "4          Fat supply quantity (g/capita/day)     g/capita/day    80.06   \n",
              "...                                       ...              ...      ...   \n",
              "60938                                    Food      1000 tonnes     42.0   \n",
              "60939     Food supply quantity (kg/capita/yr)               kg     3.06   \n",
              "60940           Food supply (kcal/capita/day)  kcal/capita/day      3.0   \n",
              "60941  Protein supply quantity (g/capita/day)     g/capita/day      0.1   \n",
              "60942      Fat supply quantity (g/capita/day)     g/capita/day     0.04   \n",
              "\n",
              "          Y2015     Y2016     Y2017     Y2018  \n",
              "0      39728.00  40551.00  41389.00  42228.00  \n",
              "1          0.00      0.00      0.00      0.00  \n",
              "2       3379.00   3372.00   3341.00   3322.00  \n",
              "3         94.35     94.72     92.82     91.83  \n",
              "4         79.36     77.40     80.19     77.28  \n",
              "...         ...       ...       ...       ...  \n",
              "60938     46.00     33.00     19.00     16.00  \n",
              "60939      3.33      2.35      1.33      1.08  \n",
              "60940      4.00      3.00      1.00      1.00  \n",
              "60941      0.11      0.08      0.04      0.04  \n",
              "60942      0.05      0.03      0.02      0.01  \n",
              "\n",
              "[60943 rows x 12 columns]>"
            ]
          },
          "metadata": {},
          "execution_count": 39
        }
      ]
    }
  ]
}