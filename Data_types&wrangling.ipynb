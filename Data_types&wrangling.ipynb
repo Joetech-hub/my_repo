{
  "nbformat": 4,
  "nbformat_minor": 0,
  "metadata": {
    "colab": {
      "provenance": [],
      "authorship_tag": "ABX9TyMjFbCKs4vM1WR5ac9Y5ySk",
      "include_colab_link": true
    },
    "kernelspec": {
      "name": "python3",
      "display_name": "Python 3"
    },
    "language_info": {
      "name": "python"
    }
  },
  "cells": [
    {
      "cell_type": "markdown",
      "metadata": {
        "id": "view-in-github",
        "colab_type": "text"
      },
      "source": [
        "<a href=\"https://colab.research.google.com/github/Joetech-hub/my_repo/blob/main/Data_types%26wrangling.ipynb\" target=\"_parent\"><img src=\"https://colab.research.google.com/assets/colab-badge.svg\" alt=\"Open In Colab\"/></a>"
      ]
    },
    {
      "cell_type": "code",
      "source": [
        "import pandas as pd"
      ],
      "metadata": {
        "id": "00cFLjs1EdMl"
      },
      "execution_count": 3,
      "outputs": []
    },
    {
      "cell_type": "code",
      "source": [
        "csv_df = pd.read_csv('organizations-500000.csv')"
      ],
      "metadata": {
        "id": "5QCFhcsjEwR6"
      },
      "execution_count": 5,
      "outputs": []
    },
    {
      "cell_type": "code",
      "source": [
        "csv_df.to_csv('organizations-500000.csv', index=False)"
      ],
      "metadata": {
        "id": "ntGviyt2FUTc"
      },
      "execution_count": 6,
      "outputs": []
    },
    {
      "cell_type": "code",
      "source": [
        "csv_df.isnull().sum()"
      ],
      "metadata": {
        "colab": {
          "base_uri": "https://localhost:8080/"
        },
        "id": "_KM5fuRjGOK3",
        "outputId": "74d132d4-e5cf-4bdf-d0bf-7741b75852ea"
      },
      "execution_count": 8,
      "outputs": [
        {
          "output_type": "execute_result",
          "data": {
            "text/plain": [
              "Index                  0\n",
              "Organization Id        0\n",
              "Name                   0\n",
              "Website                0\n",
              "Country                0\n",
              "Description            0\n",
              "Founded                0\n",
              "Industry               0\n",
              "Number of employees    1\n",
              "dtype: int64"
            ]
          },
          "metadata": {},
          "execution_count": 8
        }
      ]
    },
    {
      "cell_type": "code",
      "source": [],
      "metadata": {
        "id": "51wUhVt6ID9A"
      },
      "execution_count": null,
      "outputs": []
    }
  ]
}